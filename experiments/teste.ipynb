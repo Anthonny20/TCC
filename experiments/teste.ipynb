{
 "cells": [
  {
   "cell_type": "code",
   "execution_count": 3,
   "id": "aba86f86",
   "metadata": {},
   "outputs": [
    {
     "data": {
      "text/plain": [
       "('Pedro', 8)"
      ]
     },
     "execution_count": 3,
     "metadata": {},
     "output_type": "execute_result"
    }
   ],
   "source": [
    "def encotrar(dic):\n",
    "    if not dic:\n",
    "        return None, None\n",
    "\n",
    "    nome_maior_num, maior_num = next(iter(dic.items()))\n",
    "\n",
    "    for nome, numero in dic.items():\n",
    "        if numero <= maior_num:\n",
    "            maior_num = numero\n",
    "            nome_maior_num = nome\n",
    "    return nome_maior_num, maior_num\n",
    "\n",
    "\n",
    "\n",
    "encotrar( {'Alice': 8, 'Bob': 35, 'Charlie': 20, 'Pedro':8, 'David': 35})"
   ]
  },
  {
   "cell_type": "code",
   "execution_count": 4,
   "id": "aef7d554",
   "metadata": {},
   "outputs": [
    {
     "name": "stdout",
     "output_type": "stream",
     "text": [
      "1\n",
      "1\n",
      "3\n",
      "5\n",
      "13\n"
     ]
    }
   ],
   "source": [
    "a, b = 0,1\n",
    "while a <= 13:\n",
    "    if (a % 2) == 1:\n",
    "        print(a)\n",
    "    a, b = b, a + b"
   ]
  },
  {
   "cell_type": "code",
   "execution_count": 6,
   "id": "fb69f4b0",
   "metadata": {},
   "outputs": [
    {
     "name": "stdout",
     "output_type": "stream",
     "text": [
      "2 X 1  =  2\n",
      "2 X 2  =  4\n",
      "2 X 3  =  6\n",
      "2 X 4  =  8\n",
      "2 X 5  =  10\n",
      "2 X 6  =  12\n",
      "2 X 7  =  14\n",
      "2 X 8  =  16\n",
      "2 X 9  =  18\n"
     ]
    }
   ],
   "source": [
    "num = int(input('informe o num'))\n",
    "\n",
    "for i in range(1, 10):\n",
    "    print( num, 'X', i, ' = ', (num * i))"
   ]
  }
 ],
 "metadata": {
  "kernelspec": {
   "display_name": "ae-3.11",
   "language": "python",
   "name": "python3"
  },
  "language_info": {
   "codemirror_mode": {
    "name": "ipython",
    "version": 3
   },
   "file_extension": ".py",
   "mimetype": "text/x-python",
   "name": "python",
   "nbconvert_exporter": "python",
   "pygments_lexer": "ipython3",
   "version": "3.11.0"
  }
 },
 "nbformat": 4,
 "nbformat_minor": 5
}
